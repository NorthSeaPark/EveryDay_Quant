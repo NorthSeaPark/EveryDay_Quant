{
 "cells": [
  {
   "cell_type": "markdown",
   "id": "d7e54e5a",
   "metadata": {},
   "source": [
    "### 蒙特卡洛计算VaR"
   ]
  },
  {
   "cell_type": "code",
   "execution_count": 1,
   "id": "db8e79de",
   "metadata": {},
   "outputs": [],
   "source": [
    "import pandas as pd\n",
    "import numpy as np\n",
    "import matplotlib.pyplot as plt\n",
    "%matplotlib inline"
   ]
  },
  {
   "cell_type": "code",
   "execution_count": 2,
   "id": "88b156ae",
   "metadata": {},
   "outputs": [],
   "source": [
    "df = pd.read_csv(\"PTR.csv\")\n",
    "df.set_index(\"Date\", inplace=True)\n",
    "price = df[['Close']]"
   ]
  },
  {
   "cell_type": "code",
   "execution_count": 3,
   "id": "5ba0c0b2",
   "metadata": {},
   "outputs": [
    {
     "data": {
      "text/plain": [
       "Date\n",
       "2021-03-09   -0.028963\n",
       "2021-03-10    0.007588\n",
       "2021-03-11    0.019216\n",
       "2021-03-12   -0.014268\n",
       "2021-03-15    0.024037\n",
       "Name: Close, dtype: float64"
      ]
     },
     "execution_count": 3,
     "metadata": {},
     "output_type": "execute_result"
    }
   ],
   "source": [
    "#用蒙特卡洛模拟初始股票价格\n",
    "s_0 = price.Close[-1]\n",
    "\n",
    "daily_returns = price.Close.pct_change()\n",
    "daily_returns.dropna(inplace=True)\n",
    "daily_returns.head()"
   ]
  },
  {
   "cell_type": "code",
   "execution_count": 4,
   "id": "460d544a",
   "metadata": {},
   "outputs": [],
   "source": [
    "#去年一年的均值和标准差\n",
    "mu_1 = daily_returns.mean()\n",
    "sigma_1 = daily_returns.std()"
   ]
  },
  {
   "cell_type": "code",
   "execution_count": 5,
   "id": "28c2391c",
   "metadata": {},
   "outputs": [
    {
     "data": {
      "text/plain": [
       "55.84"
      ]
     },
     "execution_count": 5,
     "metadata": {},
     "output_type": "execute_result"
    }
   ],
   "source": [
    "s_0"
   ]
  },
  {
   "cell_type": "code",
   "execution_count": 6,
   "id": "30528823",
   "metadata": {},
   "outputs": [
    {
     "data": {
      "text/plain": [
       "0.0016248476848526807"
      ]
     },
     "execution_count": 6,
     "metadata": {},
     "output_type": "execute_result"
    }
   ],
   "source": [
    "mu_1"
   ]
  },
  {
   "cell_type": "code",
   "execution_count": 7,
   "id": "80869edf",
   "metadata": {},
   "outputs": [
    {
     "data": {
      "text/plain": [
       "0.021736087678903525"
      ]
     },
     "execution_count": 7,
     "metadata": {},
     "output_type": "execute_result"
    }
   ],
   "source": [
    "sigma_1"
   ]
  },
  {
   "cell_type": "markdown",
   "id": "31f599a9",
   "metadata": {},
   "source": [
    "### 用布朗运动计算股价变化"
   ]
  },
  {
   "cell_type": "code",
   "execution_count": 8,
   "id": "511dc3e9",
   "metadata": {},
   "outputs": [],
   "source": [
    "def GBM(s_0, mu, sigma, T, n):\n",
    "    delta_t  = T/n\n",
    "    simulated_price = [s_0]\n",
    "    \n",
    "    #模拟价格走势\n",
    "    for i in range(n):\n",
    "        start_price = simulated_price[i]\n",
    "        epsilon = np.random.normal()\n",
    "        end_price =  start_price + start_price*(mu*delta_t + sigma*epsilon*np.sqrt(delta_t))\n",
    "        #价格应该大于0\n",
    "        end_price = max(0,end_price)\n",
    "        #将算的结果存入列表\n",
    "        simulated_price.append(end_price)\n",
    "    return simulated_price\n",
    "        "
   ]
  },
  {
   "cell_type": "code",
   "execution_count": 9,
   "id": "5d942088",
   "metadata": {},
   "outputs": [],
   "source": [
    "sim1 = GBM(s_0, mu_1, sigma_1, 10, 100)"
   ]
  },
  {
   "cell_type": "code",
   "execution_count": 16,
   "id": "b0ead717",
   "metadata": {},
   "outputs": [
    {
     "data": {
      "text/plain": [
       "55.60915250072798"
      ]
     },
     "execution_count": 16,
     "metadata": {},
     "output_type": "execute_result"
    }
   ],
   "source": [
    "sim1[2]"
   ]
  },
  {
   "cell_type": "code",
   "execution_count": 12,
   "id": "c6497055",
   "metadata": {},
   "outputs": [
    {
     "data": {
      "text/plain": [
       "65.12162839423165"
      ]
     },
     "execution_count": 12,
     "metadata": {},
     "output_type": "execute_result"
    }
   ],
   "source": [
    "sim1[-1]"
   ]
  },
  {
   "cell_type": "code",
   "execution_count": 13,
   "id": "446a7732",
   "metadata": {},
   "outputs": [
    {
     "data": {
      "text/plain": [
       "[<matplotlib.lines.Line2D at 0x202a604a790>]"
      ]
     },
     "execution_count": 13,
     "metadata": {},
     "output_type": "execute_result"
    },
    {
     "data": {
      "image/png": "[encoded data removed]",
      "text/plain": [
       "<Figure size 576x432 with 1 Axes>"
      ]
     },
     "metadata": {
      "needs_background": "light"
     },
     "output_type": "display_data"
    }
   ],
   "source": [
    "sim1 = pd.Series(sim1)\n",
    "plt.figure(figsize=(8,6))\n",
    "plt.plot(sim1)"
   ]
  },
  {
   "cell_type": "code",
   "execution_count": null,
   "id": "fe46bbe5",
   "metadata": {},
   "outputs": [],
   "source": []
  }
 ],
 "metadata": {
  "kernelspec": {
   "display_name": "Python 3",
   "language": "python",
   "name": "python3"
  },
  "language_info": {
   "codemirror_mode": {
    "name": "ipython",
    "version": 3
   },
   "file_extension": ".py",
   "mimetype": "text/x-python",
   "name": "python",
   "nbconvert_exporter": "python",
   "pygments_lexer": "ipython3",
   "version": "3.8.8"
  }
 },
 "nbformat": 4,
 "nbformat_minor": 5
}
