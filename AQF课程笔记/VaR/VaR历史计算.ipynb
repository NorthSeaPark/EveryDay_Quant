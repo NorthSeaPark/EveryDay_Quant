{
 "cells": [
  {
   "cell_type": "markdown",
   "id": "192be8f2",
   "metadata": {},
   "source": [
    "### VaR历史计算"
   ]
  },
  {
   "cell_type": "code",
   "execution_count": 1,
   "id": "175b3720",
   "metadata": {},
   "outputs": [],
   "source": [
    "import pandas as pd\n",
    "import numpy as np\n",
    "import matplotlib.pyplot as plt\n",
    "%matplotlib inline"
   ]
  },
  {
   "cell_type": "code",
   "execution_count": 5,
   "id": "f7301490",
   "metadata": {},
   "outputs": [
    {
     "data": {
      "text/html": [
       "<div>\n",
       "<style scoped>\n",
       "    .dataframe tbody tr th:only-of-type {\n",
       "        vertical-align: middle;\n",
       "    }\n",
       "\n",
       "    .dataframe tbody tr th {\n",
       "        vertical-align: top;\n",
       "    }\n",
       "\n",
       "    .dataframe thead th {\n",
       "        text-align: right;\n",
       "    }\n",
       "</style>\n",
       "<table border=\"1\" class=\"dataframe\">\n",
       "  <thead>\n",
       "    <tr style=\"text-align: right;\">\n",
       "      <th></th>\n",
       "      <th>Date</th>\n",
       "      <th>Open</th>\n",
       "      <th>High</th>\n",
       "      <th>Low</th>\n",
       "      <th>Close</th>\n",
       "      <th>Adj Close</th>\n",
       "      <th>Volume</th>\n",
       "    </tr>\n",
       "  </thead>\n",
       "  <tbody>\n",
       "    <tr>\n",
       "      <th>0</th>\n",
       "      <td>2021-03-08</td>\n",
       "      <td>39.980000</td>\n",
       "      <td>40.490002</td>\n",
       "      <td>39.169998</td>\n",
       "      <td>39.360001</td>\n",
       "      <td>36.559658</td>\n",
       "      <td>283800</td>\n",
       "    </tr>\n",
       "    <tr>\n",
       "      <th>1</th>\n",
       "      <td>2021-03-09</td>\n",
       "      <td>38.689999</td>\n",
       "      <td>38.889999</td>\n",
       "      <td>38.160000</td>\n",
       "      <td>38.220001</td>\n",
       "      <td>35.500767</td>\n",
       "      <td>300000</td>\n",
       "    </tr>\n",
       "    <tr>\n",
       "      <th>2</th>\n",
       "      <td>2021-03-10</td>\n",
       "      <td>38.599998</td>\n",
       "      <td>38.669998</td>\n",
       "      <td>38.009998</td>\n",
       "      <td>38.509998</td>\n",
       "      <td>35.770130</td>\n",
       "      <td>151600</td>\n",
       "    </tr>\n",
       "    <tr>\n",
       "      <th>3</th>\n",
       "      <td>2021-03-11</td>\n",
       "      <td>39.230000</td>\n",
       "      <td>39.380001</td>\n",
       "      <td>39.009998</td>\n",
       "      <td>39.250000</td>\n",
       "      <td>36.457481</td>\n",
       "      <td>197900</td>\n",
       "    </tr>\n",
       "    <tr>\n",
       "      <th>4</th>\n",
       "      <td>2021-03-12</td>\n",
       "      <td>39.000000</td>\n",
       "      <td>39.000000</td>\n",
       "      <td>38.639999</td>\n",
       "      <td>38.689999</td>\n",
       "      <td>35.937325</td>\n",
       "      <td>142600</td>\n",
       "    </tr>\n",
       "    <tr>\n",
       "      <th>5</th>\n",
       "      <td>2021-03-15</td>\n",
       "      <td>39.020000</td>\n",
       "      <td>39.680000</td>\n",
       "      <td>38.680000</td>\n",
       "      <td>39.619999</td>\n",
       "      <td>36.801159</td>\n",
       "      <td>186500</td>\n",
       "    </tr>\n",
       "  </tbody>\n",
       "</table>\n",
       "</div>"
      ],
      "text/plain": [
       "         Date       Open       High        Low      Close  Adj Close  Volume\n",
       "0  2021-03-08  39.980000  40.490002  39.169998  39.360001  36.559658  283800\n",
       "1  2021-03-09  38.689999  38.889999  38.160000  38.220001  35.500767  300000\n",
       "2  2021-03-10  38.599998  38.669998  38.009998  38.509998  35.770130  151600\n",
       "3  2021-03-11  39.230000  39.380001  39.009998  39.250000  36.457481  197900\n",
       "4  2021-03-12  39.000000  39.000000  38.639999  38.689999  35.937325  142600\n",
       "5  2021-03-15  39.020000  39.680000  38.680000  39.619999  36.801159  186500"
      ]
     },
     "execution_count": 5,
     "metadata": {},
     "output_type": "execute_result"
    }
   ],
   "source": [
    "df = pd.read_csv(\"PTR.csv\")\n",
    "df.head(6)"
   ]
  },
  {
   "cell_type": "code",
   "execution_count": 8,
   "id": "c4b1f919",
   "metadata": {},
   "outputs": [
    {
     "data": {
      "text/html": [
       "<div>\n",
       "<style scoped>\n",
       "    .dataframe tbody tr th:only-of-type {\n",
       "        vertical-align: middle;\n",
       "    }\n",
       "\n",
       "    .dataframe tbody tr th {\n",
       "        vertical-align: top;\n",
       "    }\n",
       "\n",
       "    .dataframe thead th {\n",
       "        text-align: right;\n",
       "    }\n",
       "</style>\n",
       "<table border=\"1\" class=\"dataframe\">\n",
       "  <thead>\n",
       "    <tr style=\"text-align: right;\">\n",
       "      <th></th>\n",
       "      <th>Date</th>\n",
       "      <th>Open</th>\n",
       "      <th>High</th>\n",
       "      <th>Low</th>\n",
       "      <th>Close</th>\n",
       "      <th>Adj Close</th>\n",
       "      <th>Volume</th>\n",
       "      <th>d_return</th>\n",
       "    </tr>\n",
       "  </thead>\n",
       "  <tbody>\n",
       "    <tr>\n",
       "      <th>0</th>\n",
       "      <td>2021-03-08</td>\n",
       "      <td>39.980000</td>\n",
       "      <td>40.490002</td>\n",
       "      <td>39.169998</td>\n",
       "      <td>39.360001</td>\n",
       "      <td>36.559658</td>\n",
       "      <td>283800</td>\n",
       "      <td>NaN</td>\n",
       "    </tr>\n",
       "    <tr>\n",
       "      <th>1</th>\n",
       "      <td>2021-03-09</td>\n",
       "      <td>38.689999</td>\n",
       "      <td>38.889999</td>\n",
       "      <td>38.160000</td>\n",
       "      <td>38.220001</td>\n",
       "      <td>35.500767</td>\n",
       "      <td>300000</td>\n",
       "      <td>-0.028963</td>\n",
       "    </tr>\n",
       "    <tr>\n",
       "      <th>2</th>\n",
       "      <td>2021-03-10</td>\n",
       "      <td>38.599998</td>\n",
       "      <td>38.669998</td>\n",
       "      <td>38.009998</td>\n",
       "      <td>38.509998</td>\n",
       "      <td>35.770130</td>\n",
       "      <td>151600</td>\n",
       "      <td>0.007588</td>\n",
       "    </tr>\n",
       "    <tr>\n",
       "      <th>3</th>\n",
       "      <td>2021-03-11</td>\n",
       "      <td>39.230000</td>\n",
       "      <td>39.380001</td>\n",
       "      <td>39.009998</td>\n",
       "      <td>39.250000</td>\n",
       "      <td>36.457481</td>\n",
       "      <td>197900</td>\n",
       "      <td>0.019216</td>\n",
       "    </tr>\n",
       "    <tr>\n",
       "      <th>4</th>\n",
       "      <td>2021-03-12</td>\n",
       "      <td>39.000000</td>\n",
       "      <td>39.000000</td>\n",
       "      <td>38.639999</td>\n",
       "      <td>38.689999</td>\n",
       "      <td>35.937325</td>\n",
       "      <td>142600</td>\n",
       "      <td>-0.014268</td>\n",
       "    </tr>\n",
       "    <tr>\n",
       "      <th>5</th>\n",
       "      <td>2021-03-15</td>\n",
       "      <td>39.020000</td>\n",
       "      <td>39.680000</td>\n",
       "      <td>38.680000</td>\n",
       "      <td>39.619999</td>\n",
       "      <td>36.801159</td>\n",
       "      <td>186500</td>\n",
       "      <td>0.024037</td>\n",
       "    </tr>\n",
       "  </tbody>\n",
       "</table>\n",
       "</div>"
      ],
      "text/plain": [
       "         Date       Open       High        Low      Close  Adj Close  Volume  \\\n",
       "0  2021-03-08  39.980000  40.490002  39.169998  39.360001  36.559658  283800   \n",
       "1  2021-03-09  38.689999  38.889999  38.160000  38.220001  35.500767  300000   \n",
       "2  2021-03-10  38.599998  38.669998  38.009998  38.509998  35.770130  151600   \n",
       "3  2021-03-11  39.230000  39.380001  39.009998  39.250000  36.457481  197900   \n",
       "4  2021-03-12  39.000000  39.000000  38.639999  38.689999  35.937325  142600   \n",
       "5  2021-03-15  39.020000  39.680000  38.680000  39.619999  36.801159  186500   \n",
       "\n",
       "   d_return  \n",
       "0       NaN  \n",
       "1 -0.028963  \n",
       "2  0.007588  \n",
       "3  0.019216  \n",
       "4 -0.014268  \n",
       "5  0.024037  "
      ]
     },
     "execution_count": 8,
     "metadata": {},
     "output_type": "execute_result"
    }
   ],
   "source": [
    "#计算 中石化 每天的收益率\n",
    "df['d_return'] = df['Close'].pct_change()\n",
    "df.head(6)"
   ]
  },
  {
   "cell_type": "code",
   "execution_count": 9,
   "id": "c057770a",
   "metadata": {},
   "outputs": [],
   "source": [
    "VaR_5 = np.percentile(df.d_return.dropna(), 5)\n",
    "VaR_1 = np.percentile(df.d_return.dropna(), 1)"
   ]
  },
  {
   "cell_type": "code",
   "execution_count": 10,
   "id": "d606cd2b",
   "metadata": {},
   "outputs": [
    {
     "data": {
      "text/plain": [
       "-0.05987609539703926"
      ]
     },
     "execution_count": 10,
     "metadata": {},
     "output_type": "execute_result"
    }
   ],
   "source": [
    "VaR_1\n",
    "#此数据表明：一年内，至少有99%的日收益率大于%-5.987"
   ]
  },
  {
   "cell_type": "code",
   "execution_count": 11,
   "id": "fea69cc7",
   "metadata": {},
   "outputs": [
    {
     "data": {
      "text/plain": [
       "-0.03294460287605421"
      ]
     },
     "execution_count": 11,
     "metadata": {},
     "output_type": "execute_result"
    }
   ],
   "source": [
    "VaR_5\n",
    "#此数据表明：一年内，至少有95%的日收益率大于%-3.294"
   ]
  },
  {
   "cell_type": "code",
   "execution_count": 13,
   "id": "35185608",
   "metadata": {},
   "outputs": [
    {
     "data": {
      "text/plain": [
       "Text(0, 0.5, 'count')"
      ]
     },
     "execution_count": 13,
     "metadata": {},
     "output_type": "execute_result"
    },
    {
     "data": {
      "image/png": "[encoded data removed]",
      "text/plain": [
       "<Figure size 576x432 with 1 Axes>"
      ]
     },
     "metadata": {
      "needs_background": "light"
     },
     "output_type": "display_data"
    }
   ],
   "source": [
    "#作图\n",
    "plt.figure(figsize=(8,6))\n",
    "df.d_return.hist(bins=50, alpha=0.6, color='steelblue')\n",
    "plt.axvline(VaR_5, color='red', linewidth=1, label = 'VaR_5')\n",
    "plt.axvline(VaR_1, color='green', linewidth=1, label = 'VaR_1')\n",
    "plt.legend()\n",
    "plt.xlabel('return')\n",
    "plt.ylabel('count')"
   ]
  },
  {
   "cell_type": "code",
   "execution_count": null,
   "id": "65506e9c",
   "metadata": {},
   "outputs": [],
   "source": []
  }
 ],
 "metadata": {
  "kernelspec": {
   "display_name": "Python 3",
   "language": "python",
   "name": "python3"
  },
  "language_info": {
   "codemirror_mode": {
    "name": "ipython",
    "version": 3
   },
   "file_extension": ".py",
   "mimetype": "text/x-python",
   "name": "python",
   "nbconvert_exporter": "python",
   "pygments_lexer": "ipython3",
   "version": "3.8.8"
  }
 },
 "nbformat": 4,
 "nbformat_minor": 5
}
