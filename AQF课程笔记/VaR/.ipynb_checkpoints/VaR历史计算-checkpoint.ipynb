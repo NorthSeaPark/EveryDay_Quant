{
 "cells": [
  {
   "cell_type": "code",
   "execution_count": 1,
   "id": "38ac1c9e",
   "metadata": {},
   "outputs": [],
   "source": [
    "import pandas as pd\n",
    "import numpy as np\n",
    "import matplotlib.pyplot as plt\n",
    "%matplotlib inline"
   ]
  },
  {
   "cell_type": "code",
   "execution_count": 5,
   "id": "fefb5dc3",
   "metadata": {},
   "outputs": [
    {
     "data": {
      "text/html": [
       "<div>\n",
       "<style scoped>\n",
       "    .dataframe tbody tr th:only-of-type {\n",
       "        vertical-align: middle;\n",
       "    }\n",
       "\n",
       "    .dataframe tbody tr th {\n",
       "        vertical-align: top;\n",
       "    }\n",
       "\n",
       "    .dataframe thead th {\n",
       "        text-align: right;\n",
       "    }\n",
       "</style>\n",
       "<table border=\"1\" class=\"dataframe\">\n",
       "  <thead>\n",
       "    <tr style=\"text-align: right;\">\n",
       "      <th></th>\n",
       "      <th>Date</th>\n",
       "      <th>Open</th>\n",
       "      <th>High</th>\n",
       "      <th>Low</th>\n",
       "      <th>Close</th>\n",
       "      <th>Adj Close</th>\n",
       "      <th>Volume</th>\n",
       "    </tr>\n",
       "  </thead>\n",
       "  <tbody>\n",
       "    <tr>\n",
       "      <th>0</th>\n",
       "      <td>2021-03-08</td>\n",
       "      <td>39.980000</td>\n",
       "      <td>40.490002</td>\n",
       "      <td>39.169998</td>\n",
       "      <td>39.360001</td>\n",
       "      <td>36.559658</td>\n",
       "      <td>283800</td>\n",
       "    </tr>\n",
       "    <tr>\n",
       "      <th>1</th>\n",
       "      <td>2021-03-09</td>\n",
       "      <td>38.689999</td>\n",
       "      <td>38.889999</td>\n",
       "      <td>38.160000</td>\n",
       "      <td>38.220001</td>\n",
       "      <td>35.500767</td>\n",
       "      <td>300000</td>\n",
       "    </tr>\n",
       "    <tr>\n",
       "      <th>2</th>\n",
       "      <td>2021-03-10</td>\n",
       "      <td>38.599998</td>\n",
       "      <td>38.669998</td>\n",
       "      <td>38.009998</td>\n",
       "      <td>38.509998</td>\n",
       "      <td>35.770130</td>\n",
       "      <td>151600</td>\n",
       "    </tr>\n",
       "    <tr>\n",
       "      <th>3</th>\n",
       "      <td>2021-03-11</td>\n",
       "      <td>39.230000</td>\n",
       "      <td>39.380001</td>\n",
       "      <td>39.009998</td>\n",
       "      <td>39.250000</td>\n",
       "      <td>36.457481</td>\n",
       "      <td>197900</td>\n",
       "    </tr>\n",
       "    <tr>\n",
       "      <th>4</th>\n",
       "      <td>2021-03-12</td>\n",
       "      <td>39.000000</td>\n",
       "      <td>39.000000</td>\n",
       "      <td>38.639999</td>\n",
       "      <td>38.689999</td>\n",
       "      <td>35.937325</td>\n",
       "      <td>142600</td>\n",
       "    </tr>\n",
       "    <tr>\n",
       "      <th>5</th>\n",
       "      <td>2021-03-15</td>\n",
       "      <td>39.020000</td>\n",
       "      <td>39.680000</td>\n",
       "      <td>38.680000</td>\n",
       "      <td>39.619999</td>\n",
       "      <td>36.801159</td>\n",
       "      <td>186500</td>\n",
       "    </tr>\n",
       "  </tbody>\n",
       "</table>\n",
       "</div>"
      ],
      "text/plain": [
       "         Date       Open       High        Low      Close  Adj Close  Volume\n",
       "0  2021-03-08  39.980000  40.490002  39.169998  39.360001  36.559658  283800\n",
       "1  2021-03-09  38.689999  38.889999  38.160000  38.220001  35.500767  300000\n",
       "2  2021-03-10  38.599998  38.669998  38.009998  38.509998  35.770130  151600\n",
       "3  2021-03-11  39.230000  39.380001  39.009998  39.250000  36.457481  197900\n",
       "4  2021-03-12  39.000000  39.000000  38.639999  38.689999  35.937325  142600\n",
       "5  2021-03-15  39.020000  39.680000  38.680000  39.619999  36.801159  186500"
      ]
     },
     "execution_count": 5,
     "metadata": {},
     "output_type": "execute_result"
    }
   ],
   "source": [
    "df = pd.read_csv(\"PTR.csv\")\n",
    "df.head(6)"
   ]
  },
  {
   "cell_type": "code",
   "execution_count": null,
   "id": "2efa20b0",
   "metadata": {},
   "outputs": [],
   "source": []
  }
 ],
 "metadata": {
  "kernelspec": {
   "display_name": "Python 3",
   "language": "python",
   "name": "python3"
  },
  "language_info": {
   "codemirror_mode": {
    "name": "ipython",
    "version": 3
   },
   "file_extension": ".py",
   "mimetype": "text/x-python",
   "name": "python",
   "nbconvert_exporter": "python",
   "pygments_lexer": "ipython3",
   "version": "3.8.8"
  }
 },
 "nbformat": 4,
 "nbformat_minor": 5
}
